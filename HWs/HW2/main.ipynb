{
 "cells": [
  {
   "cell_type": "code",
   "execution_count": 1,
   "metadata": {},
   "outputs": [],
   "source": [
    "import pandas as pd\n",
    "from matplotlib import pyplot as plt\n",
    "# Processing\n",
    "from sklearn.preprocessing import LabelEncoder\n",
    "from sklearn.model_selection import train_test_split\n",
    "# Pipelining\n",
    "from sklearn.pipeline import make_pipeline\n",
    "# Metrics\n",
    "from sklearn.metrics import mean_squared_error, confusion_matrix\n",
    "# Regression\n",
    "from sklearn.linear_model import LinearRegression\n",
    "from sklearn.preprocessing import PolynomialFeatures\n",
    "# Classification\n",
    "from sklearn.tree import DecisionTreeClassifier\n",
    "from sklearn.svm import SVC, LinearSVC\n",
    "from sklearn.neighbors import KNeighborsClassifier\n",
    "from sklearn.ensemble import RandomForestClassifier\n",
    "# Keras\n",
    "from keras.utils import to_categorical\n",
    "from keras.models import Sequential\n",
    "from keras.layers import Dense, Activation, Embedding, Flatten, GlobalMaxPool1D, Dropout, Conv1D\n",
    "from keras.callbacks import ReduceLROnPlateau, EarlyStopping\n",
    "# Keras Tuner\n",
    "import keras_tuner as kt"
   ]
  },
  {
   "cell_type": "code",
   "execution_count": 2,
   "metadata": {},
   "outputs": [],
   "source": [
    "RANDOM_STATE = 42"
   ]
  },
  {
   "attachments": {},
   "cell_type": "markdown",
   "metadata": {},
   "source": [
    "## Loading Data & Preprocessing"
   ]
  },
  {
   "cell_type": "code",
   "execution_count": 3,
   "metadata": {},
   "outputs": [],
   "source": [
    "# Read CSV\n",
    "df = pd.read_csv(\"housePrice.csv\")"
   ]
  },
  {
   "cell_type": "code",
   "execution_count": 4,
   "metadata": {},
   "outputs": [],
   "source": [
    "# Remove null rows\n",
    "df.dropna(\n",
    "    inplace=True,\n",
    "    how=\"any\",\n",
    ")"
   ]
  },
  {
   "attachments": {},
   "cell_type": "markdown",
   "metadata": {},
   "source": [
    "## Categorical data"
   ]
  },
  {
   "cell_type": "code",
   "execution_count": 5,
   "metadata": {},
   "outputs": [
    {
     "name": "stdout",
     "output_type": "stream",
     "text": [
      "Q1: 1419250000.0, Q2: 2900000000.0, Q3: 6000000000.0\n"
     ]
    },
    {
     "data": {
      "text/html": [
       "<div>\n",
       "<style scoped>\n",
       "    .dataframe tbody tr th:only-of-type {\n",
       "        vertical-align: middle;\n",
       "    }\n",
       "\n",
       "    .dataframe tbody tr th {\n",
       "        vertical-align: top;\n",
       "    }\n",
       "\n",
       "    .dataframe thead th {\n",
       "        text-align: right;\n",
       "    }\n",
       "</style>\n",
       "<table border=\"1\" class=\"dataframe\">\n",
       "  <thead>\n",
       "    <tr style=\"text-align: right;\">\n",
       "      <th></th>\n",
       "      <th>Area</th>\n",
       "      <th>Room</th>\n",
       "      <th>Parking</th>\n",
       "      <th>Warehouse</th>\n",
       "      <th>Elevator</th>\n",
       "      <th>Address</th>\n",
       "      <th>Price</th>\n",
       "      <th>priceLevel</th>\n",
       "    </tr>\n",
       "  </thead>\n",
       "  <tbody>\n",
       "    <tr>\n",
       "      <th>0</th>\n",
       "      <td>63</td>\n",
       "      <td>1</td>\n",
       "      <td>True</td>\n",
       "      <td>True</td>\n",
       "      <td>True</td>\n",
       "      <td>Shahran</td>\n",
       "      <td>1850000000</td>\n",
       "      <td>underMean</td>\n",
       "    </tr>\n",
       "    <tr>\n",
       "      <th>1</th>\n",
       "      <td>60</td>\n",
       "      <td>1</td>\n",
       "      <td>True</td>\n",
       "      <td>True</td>\n",
       "      <td>True</td>\n",
       "      <td>Shahran</td>\n",
       "      <td>1850000000</td>\n",
       "      <td>underMean</td>\n",
       "    </tr>\n",
       "    <tr>\n",
       "      <th>2</th>\n",
       "      <td>79</td>\n",
       "      <td>2</td>\n",
       "      <td>True</td>\n",
       "      <td>True</td>\n",
       "      <td>True</td>\n",
       "      <td>Pardis</td>\n",
       "      <td>550000000</td>\n",
       "      <td>cheap</td>\n",
       "    </tr>\n",
       "    <tr>\n",
       "      <th>3</th>\n",
       "      <td>95</td>\n",
       "      <td>2</td>\n",
       "      <td>True</td>\n",
       "      <td>True</td>\n",
       "      <td>True</td>\n",
       "      <td>Shahrake Qods</td>\n",
       "      <td>902500000</td>\n",
       "      <td>cheap</td>\n",
       "    </tr>\n",
       "    <tr>\n",
       "      <th>4</th>\n",
       "      <td>123</td>\n",
       "      <td>2</td>\n",
       "      <td>True</td>\n",
       "      <td>True</td>\n",
       "      <td>True</td>\n",
       "      <td>Shahrake Gharb</td>\n",
       "      <td>7000000000</td>\n",
       "      <td>expensive</td>\n",
       "    </tr>\n",
       "  </tbody>\n",
       "</table>\n",
       "</div>"
      ],
      "text/plain": [
       "   Area  Room  Parking  Warehouse  Elevator         Address       Price   \n",
       "0    63     1     True       True      True         Shahran  1850000000  \\\n",
       "1    60     1     True       True      True         Shahran  1850000000   \n",
       "2    79     2     True       True      True          Pardis   550000000   \n",
       "3    95     2     True       True      True   Shahrake Qods   902500000   \n",
       "4   123     2     True       True      True  Shahrake Gharb  7000000000   \n",
       "\n",
       "  priceLevel  \n",
       "0  underMean  \n",
       "1  underMean  \n",
       "2      cheap  \n",
       "3      cheap  \n",
       "4  expensive  "
      ]
     },
     "execution_count": 5,
     "metadata": {},
     "output_type": "execute_result"
    }
   ],
   "source": [
    "# Find Quantiles\n",
    "q1 = df[\"Price\"].quantile(0.25)\n",
    "q2 = df[\"Price\"].quantile(0.50)\n",
    "q3 = df[\"Price\"].quantile(0.75)\n",
    "print(f\"Q1: {q1}, Q2: {q2}, Q3: {q3}\")\n",
    "\n",
    "# Create new columnd \"priceLevel\" with the given mapping\n",
    "df[\"priceLevel\"] = df[\"Price\"].apply(\n",
    "    lambda x: \"cheap\" if x <= q1 else \"underMean\" if x <= q2 else \"aboveMean\" if x <= q3 else \"expensive\"\n",
    ")\n",
    "\n",
    "df.head(5)  # Preview"
   ]
  },
  {
   "attachments": {},
   "cell_type": "markdown",
   "metadata": {},
   "source": [
    "## Label Encoding"
   ]
  },
  {
   "cell_type": "code",
   "execution_count": 6,
   "metadata": {},
   "outputs": [
    {
     "data": {
      "text/html": [
       "<div>\n",
       "<style scoped>\n",
       "    .dataframe tbody tr th:only-of-type {\n",
       "        vertical-align: middle;\n",
       "    }\n",
       "\n",
       "    .dataframe tbody tr th {\n",
       "        vertical-align: top;\n",
       "    }\n",
       "\n",
       "    .dataframe thead th {\n",
       "        text-align: right;\n",
       "    }\n",
       "</style>\n",
       "<table border=\"1\" class=\"dataframe\">\n",
       "  <thead>\n",
       "    <tr style=\"text-align: right;\">\n",
       "      <th></th>\n",
       "      <th>Area</th>\n",
       "      <th>Room</th>\n",
       "      <th>Parking</th>\n",
       "      <th>Warehouse</th>\n",
       "      <th>Elevator</th>\n",
       "      <th>Address</th>\n",
       "      <th>Price</th>\n",
       "      <th>priceLevel</th>\n",
       "    </tr>\n",
       "  </thead>\n",
       "  <tbody>\n",
       "    <tr>\n",
       "      <th>0</th>\n",
       "      <td>63</td>\n",
       "      <td>1</td>\n",
       "      <td>1</td>\n",
       "      <td>1</td>\n",
       "      <td>1</td>\n",
       "      <td>156</td>\n",
       "      <td>1850000000</td>\n",
       "      <td>underMean</td>\n",
       "    </tr>\n",
       "    <tr>\n",
       "      <th>1</th>\n",
       "      <td>60</td>\n",
       "      <td>1</td>\n",
       "      <td>1</td>\n",
       "      <td>1</td>\n",
       "      <td>1</td>\n",
       "      <td>156</td>\n",
       "      <td>1850000000</td>\n",
       "      <td>underMean</td>\n",
       "    </tr>\n",
       "    <tr>\n",
       "      <th>2</th>\n",
       "      <td>79</td>\n",
       "      <td>2</td>\n",
       "      <td>1</td>\n",
       "      <td>1</td>\n",
       "      <td>1</td>\n",
       "      <td>117</td>\n",
       "      <td>550000000</td>\n",
       "      <td>cheap</td>\n",
       "    </tr>\n",
       "    <tr>\n",
       "      <th>3</th>\n",
       "      <td>95</td>\n",
       "      <td>2</td>\n",
       "      <td>1</td>\n",
       "      <td>1</td>\n",
       "      <td>1</td>\n",
       "      <td>152</td>\n",
       "      <td>902500000</td>\n",
       "      <td>cheap</td>\n",
       "    </tr>\n",
       "    <tr>\n",
       "      <th>4</th>\n",
       "      <td>123</td>\n",
       "      <td>2</td>\n",
       "      <td>1</td>\n",
       "      <td>1</td>\n",
       "      <td>1</td>\n",
       "      <td>150</td>\n",
       "      <td>7000000000</td>\n",
       "      <td>expensive</td>\n",
       "    </tr>\n",
       "  </tbody>\n",
       "</table>\n",
       "</div>"
      ],
      "text/plain": [
       "   Area  Room  Parking  Warehouse  Elevator  Address       Price priceLevel\n",
       "0    63     1        1          1         1      156  1850000000  underMean\n",
       "1    60     1        1          1         1      156  1850000000  underMean\n",
       "2    79     2        1          1         1      117   550000000      cheap\n",
       "3    95     2        1          1         1      152   902500000      cheap\n",
       "4   123     2        1          1         1      150  7000000000  expensive"
      ]
     },
     "execution_count": 6,
     "metadata": {},
     "output_type": "execute_result"
    }
   ],
   "source": [
    "# Label encode the categorical columns\n",
    "for col in [\"Parking\", \"Warehouse\", \"Elevator\", \"Address\"]:\n",
    "    df[col] = LabelEncoder().fit_transform(df[col])\n",
    "\n",
    "df.head(5)  # Preview"
   ]
  },
  {
   "attachments": {},
   "cell_type": "markdown",
   "metadata": {},
   "source": [
    "### Normalize"
   ]
  },
  {
   "cell_type": "code",
   "execution_count": 7,
   "metadata": {},
   "outputs": [
    {
     "data": {
      "text/html": [
       "<div>\n",
       "<style scoped>\n",
       "    .dataframe tbody tr th:only-of-type {\n",
       "        vertical-align: middle;\n",
       "    }\n",
       "\n",
       "    .dataframe tbody tr th {\n",
       "        vertical-align: top;\n",
       "    }\n",
       "\n",
       "    .dataframe thead th {\n",
       "        text-align: right;\n",
       "    }\n",
       "</style>\n",
       "<table border=\"1\" class=\"dataframe\">\n",
       "  <thead>\n",
       "    <tr style=\"text-align: right;\">\n",
       "      <th></th>\n",
       "      <th>Area</th>\n",
       "      <th>Room</th>\n",
       "      <th>Parking</th>\n",
       "      <th>Warehouse</th>\n",
       "      <th>Elevator</th>\n",
       "      <th>Address</th>\n",
       "      <th>Price</th>\n",
       "      <th>priceLevel</th>\n",
       "    </tr>\n",
       "  </thead>\n",
       "  <tbody>\n",
       "    <tr>\n",
       "      <th>0</th>\n",
       "      <td>-0.631442</td>\n",
       "      <td>-1.422174</td>\n",
       "      <td>0.424074</td>\n",
       "      <td>0.304603</td>\n",
       "      <td>0.519331</td>\n",
       "      <td>1.013505</td>\n",
       "      <td>1850000000</td>\n",
       "      <td>underMean</td>\n",
       "    </tr>\n",
       "    <tr>\n",
       "      <th>1</th>\n",
       "      <td>-0.674576</td>\n",
       "      <td>-1.422174</td>\n",
       "      <td>0.424074</td>\n",
       "      <td>0.304603</td>\n",
       "      <td>0.519331</td>\n",
       "      <td>1.013505</td>\n",
       "      <td>1850000000</td>\n",
       "      <td>underMean</td>\n",
       "    </tr>\n",
       "    <tr>\n",
       "      <th>2</th>\n",
       "      <td>-0.401395</td>\n",
       "      <td>-0.106758</td>\n",
       "      <td>0.424074</td>\n",
       "      <td>0.304603</td>\n",
       "      <td>0.519331</td>\n",
       "      <td>0.238489</td>\n",
       "      <td>550000000</td>\n",
       "      <td>cheap</td>\n",
       "    </tr>\n",
       "    <tr>\n",
       "      <th>3</th>\n",
       "      <td>-0.171348</td>\n",
       "      <td>-0.106758</td>\n",
       "      <td>0.424074</td>\n",
       "      <td>0.304603</td>\n",
       "      <td>0.519331</td>\n",
       "      <td>0.934016</td>\n",
       "      <td>902500000</td>\n",
       "      <td>cheap</td>\n",
       "    </tr>\n",
       "    <tr>\n",
       "      <th>4</th>\n",
       "      <td>0.231235</td>\n",
       "      <td>-0.106758</td>\n",
       "      <td>0.424074</td>\n",
       "      <td>0.304603</td>\n",
       "      <td>0.519331</td>\n",
       "      <td>0.894272</td>\n",
       "      <td>7000000000</td>\n",
       "      <td>expensive</td>\n",
       "    </tr>\n",
       "  </tbody>\n",
       "</table>\n",
       "</div>"
      ],
      "text/plain": [
       "       Area      Room   Parking  Warehouse  Elevator   Address       Price   \n",
       "0 -0.631442 -1.422174  0.424074   0.304603  0.519331  1.013505  1850000000  \\\n",
       "1 -0.674576 -1.422174  0.424074   0.304603  0.519331  1.013505  1850000000   \n",
       "2 -0.401395 -0.106758  0.424074   0.304603  0.519331  0.238489   550000000   \n",
       "3 -0.171348 -0.106758  0.424074   0.304603  0.519331  0.934016   902500000   \n",
       "4  0.231235 -0.106758  0.424074   0.304603  0.519331  0.894272  7000000000   \n",
       "\n",
       "  priceLevel  \n",
       "0  underMean  \n",
       "1  underMean  \n",
       "2      cheap  \n",
       "3      cheap  \n",
       "4  expensive  "
      ]
     },
     "execution_count": 7,
     "metadata": {},
     "output_type": "execute_result"
    }
   ],
   "source": [
    "# Normalize features \"Area\", \"Room\", \"Parking\", \"Warehouse\", \"Elevator\", \"Address\"\n",
    "def normalize(x):\n",
    "    return (x - x.mean()) / x.std()\n",
    "\n",
    "for col in [\"Area\", \"Room\", \"Parking\", \"Warehouse\", \"Elevator\", \"Address\"]:\n",
    "    df[col] = normalize(df[col])\n",
    "\n",
    "df.head(5)  # Preview\n",
    "\n",
    "# NOTE: Normally we don't normalize categorical features, but for the sake of this exercise we will do it anyway! (question says so)"
   ]
  },
  {
   "attachments": {},
   "cell_type": "markdown",
   "metadata": {},
   "source": [
    "## Regression"
   ]
  },
  {
   "cell_type": "code",
   "execution_count": 8,
   "metadata": {},
   "outputs": [],
   "source": [
    "metrics = []"
   ]
  },
  {
   "attachments": {},
   "cell_type": "markdown",
   "metadata": {},
   "source": [
    "### Train Test Split"
   ]
  },
  {
   "cell_type": "code",
   "execution_count": 9,
   "metadata": {},
   "outputs": [
    {
     "name": "stdout",
     "output_type": "stream",
     "text": [
      "X_train: (2760, 6), X_test: (690, 6), y_train: (2760,), y_test: (690,)\n"
     ]
    }
   ],
   "source": [
    "X_train, X_test, y_train, y_test = train_test_split(\n",
    "    df[[\"Area\", \"Room\", \"Parking\", \"Warehouse\", \"Elevator\", \"Address\"]],\n",
    "    df[\"Price\"],\n",
    "    test_size=0.2,\n",
    "    random_state=RANDOM_STATE\n",
    ")\n",
    "print(f\"X_train: {X_train.shape}, X_test: {X_test.shape}, y_train: {y_train.shape}, y_test: {y_test.shape}\")"
   ]
  },
  {
   "attachments": {},
   "cell_type": "markdown",
   "metadata": {},
   "source": [
    "### Linear Regression"
   ]
  },
  {
   "cell_type": "code",
   "execution_count": 10,
   "metadata": {},
   "outputs": [
    {
     "name": "stdout",
     "output_type": "stream",
     "text": [
      "Accuracy: 0.532239397397647, MSE: 3.5389215521928864e+19\n"
     ]
    }
   ],
   "source": [
    "linear_model = LinearRegression()\n",
    "linear_model.fit(X_train, y_train)\n",
    "\n",
    "# Evaluate\n",
    "acc = linear_model.score(X_test, y_test)\n",
    "mse = mean_squared_error(y_test, linear_model.predict(X_test))\n",
    "metrics.append({\"model\": \"Linear Regression\", \"acc\": acc, \"mse\": mse})\n",
    "print(f\"Accuracy: {acc}, MSE: {mse}\")"
   ]
  },
  {
   "attachments": {},
   "cell_type": "markdown",
   "metadata": {},
   "source": [
    "### Second Degree Polynomial Regression"
   ]
  },
  {
   "cell_type": "code",
   "execution_count": 11,
   "metadata": {},
   "outputs": [
    {
     "name": "stdout",
     "output_type": "stream",
     "text": [
      "Accuracy: 0.7219396478541105, MSE: 2.1037123852347335e+19\n"
     ]
    }
   ],
   "source": [
    "degree=2\n",
    "polyreg=make_pipeline(PolynomialFeatures(degree), LinearRegression())\n",
    "polyreg.fit(X_train, y_train)\n",
    "\n",
    "# Evaluate\n",
    "acc = polyreg.score(X_test, y_test)\n",
    "mse = mean_squared_error(y_test, polyreg.predict(X_test))\n",
    "metrics.append({\"model\": f\"Polynomial Regression (degree={degree})\", \"acc\": acc, \"mse\": mse})\n",
    "print(f\"Accuracy: {acc}, MSE: {mse}\")"
   ]
  },
  {
   "attachments": {},
   "cell_type": "markdown",
   "metadata": {},
   "source": [
    "### Third Degree Polynomial Regression"
   ]
  },
  {
   "cell_type": "code",
   "execution_count": 12,
   "metadata": {},
   "outputs": [
    {
     "name": "stdout",
     "output_type": "stream",
     "text": [
      "Accuracy: 0.7261379675907262, MSE: 2.071949290788028e+19\n"
     ]
    }
   ],
   "source": [
    "degree=3\n",
    "polyreg=make_pipeline(PolynomialFeatures(degree), LinearRegression())\n",
    "polyreg.fit(X_train, y_train)\n",
    "\n",
    "# Evaluate\n",
    "acc = polyreg.score(X_test, y_test)\n",
    "mse = mean_squared_error(y_test, polyreg.predict(X_test))\n",
    "metrics.append({\"model\": f\"Polynomial Regression (degree={degree})\", \"acc\": acc, \"mse\": mse})\n",
    "print(f\"Accuracy: {acc}, MSE: {mse}\")"
   ]
  },
  {
   "cell_type": "code",
   "execution_count": 13,
   "metadata": {},
   "outputs": [
    {
     "data": {
      "text/html": [
       "<div>\n",
       "<style scoped>\n",
       "    .dataframe tbody tr th:only-of-type {\n",
       "        vertical-align: middle;\n",
       "    }\n",
       "\n",
       "    .dataframe tbody tr th {\n",
       "        vertical-align: top;\n",
       "    }\n",
       "\n",
       "    .dataframe thead th {\n",
       "        text-align: right;\n",
       "    }\n",
       "</style>\n",
       "<table border=\"1\" class=\"dataframe\">\n",
       "  <thead>\n",
       "    <tr style=\"text-align: right;\">\n",
       "      <th></th>\n",
       "      <th>model</th>\n",
       "      <th>acc</th>\n",
       "      <th>mse</th>\n",
       "    </tr>\n",
       "  </thead>\n",
       "  <tbody>\n",
       "    <tr>\n",
       "      <th>0</th>\n",
       "      <td>Linear Regression</td>\n",
       "      <td>0.532239</td>\n",
       "      <td>3.538922e+19</td>\n",
       "    </tr>\n",
       "    <tr>\n",
       "      <th>1</th>\n",
       "      <td>Polynomial Regression (degree=2)</td>\n",
       "      <td>0.721940</td>\n",
       "      <td>2.103712e+19</td>\n",
       "    </tr>\n",
       "    <tr>\n",
       "      <th>2</th>\n",
       "      <td>Polynomial Regression (degree=3)</td>\n",
       "      <td>0.726138</td>\n",
       "      <td>2.071949e+19</td>\n",
       "    </tr>\n",
       "  </tbody>\n",
       "</table>\n",
       "</div>"
      ],
      "text/plain": [
       "                              model       acc           mse\n",
       "0                 Linear Regression  0.532239  3.538922e+19\n",
       "1  Polynomial Regression (degree=2)  0.721940  2.103712e+19\n",
       "2  Polynomial Regression (degree=3)  0.726138  2.071949e+19"
      ]
     },
     "execution_count": 13,
     "metadata": {},
     "output_type": "execute_result"
    }
   ],
   "source": [
    "pd.DataFrame(metrics)"
   ]
  },
  {
   "attachments": {},
   "cell_type": "markdown",
   "metadata": {},
   "source": [
    "As can be seen here, the third degree polynomial regression model is the best fit for the data with lower MSE and higher Accuracy."
   ]
  },
  {
   "attachments": {},
   "cell_type": "markdown",
   "metadata": {},
   "source": [
    "## Classification"
   ]
  },
  {
   "cell_type": "code",
   "execution_count": 14,
   "metadata": {},
   "outputs": [],
   "source": [
    "metrics = []"
   ]
  },
  {
   "cell_type": "code",
   "execution_count": 15,
   "metadata": {},
   "outputs": [
    {
     "name": "stdout",
     "output_type": "stream",
     "text": [
      "X_train: (2760, 6), X_test: (690, 6), y_train: (2760,), y_test: (690,)\n"
     ]
    }
   ],
   "source": [
    "X_train, X_test, y_train, y_test = train_test_split(\n",
    "    df[[\"Area\", \"Room\", \"Parking\", \"Warehouse\", \"Elevator\", \"Address\"]],\n",
    "    df[\"priceLevel\"],\n",
    "    test_size=0.2,\n",
    "    random_state=RANDOM_STATE\n",
    ")\n",
    "print(f\"X_train: {X_train.shape}, X_test: {X_test.shape}, y_train: {y_train.shape}, y_test: {y_test.shape}\")"
   ]
  },
  {
   "attachments": {},
   "cell_type": "markdown",
   "metadata": {},
   "source": [
    "### Decision Tree"
   ]
  },
  {
   "cell_type": "code",
   "execution_count": 16,
   "metadata": {},
   "outputs": [
    {
     "name": "stdout",
     "output_type": "stream",
     "text": [
      "Accuracy: 0.7565217391304347\n"
     ]
    }
   ],
   "source": [
    "dtc = DecisionTreeClassifier(random_state=RANDOM_STATE, criterion=\"entropy\")\n",
    "dtc.fit(X_train, y_train)\n",
    "\n",
    "# Evaluate\n",
    "acc = dtc.score(X_test, y_test)\n",
    "metrics.append({\"model\": \"Decision Tree Classifier\", \"acc\": acc})\n",
    "print(f\"Accuracy: {acc}\")"
   ]
  },
  {
   "attachments": {},
   "cell_type": "markdown",
   "metadata": {},
   "source": [
    "### Random Forest"
   ]
  },
  {
   "cell_type": "code",
   "execution_count": 17,
   "metadata": {},
   "outputs": [
    {
     "name": "stdout",
     "output_type": "stream",
     "text": [
      "Accuracy: 0.744927536231884\n"
     ]
    }
   ],
   "source": [
    "rfc = RandomForestClassifier(random_state=RANDOM_STATE, criterion=\"entropy\")\n",
    "rfc.fit(X_train, y_train)\n",
    "\n",
    "# Evaluate\n",
    "acc = rfc.score(X_test, y_test)\n",
    "metrics.append({\"model\": \"Random Forest Classifier\", \"acc\": acc})\n",
    "print(f\"Accuracy: {acc}\")"
   ]
  },
  {
   "attachments": {},
   "cell_type": "markdown",
   "metadata": {},
   "source": [
    "### KNN"
   ]
  },
  {
   "cell_type": "code",
   "execution_count": 18,
   "metadata": {},
   "outputs": [
    {
     "name": "stdout",
     "output_type": "stream",
     "text": [
      "Accuracy: 0.7014492753623188\n"
     ]
    }
   ],
   "source": [
    "knn = KNeighborsClassifier(n_neighbors=3)\n",
    "knn.fit(X_train, y_train)\n",
    "\n",
    "# Evaluate\n",
    "acc = knn.score(X_test, y_test)\n",
    "metrics.append({\"model\": \"KNN-3 Classifier\", \"acc\": acc})\n",
    "print(f\"Accuracy: {acc}\")"
   ]
  },
  {
   "attachments": {},
   "cell_type": "markdown",
   "metadata": {},
   "source": [
    "### SVM"
   ]
  },
  {
   "cell_type": "code",
   "execution_count": 19,
   "metadata": {},
   "outputs": [
    {
     "name": "stdout",
     "output_type": "stream",
     "text": [
      "Accuracy: 0.6405797101449275\n"
     ]
    }
   ],
   "source": [
    "svc = SVC(random_state=RANDOM_STATE)\n",
    "svc.fit(X_train, y_train)\n",
    "\n",
    "# Evaluate\n",
    "acc = svc.score(X_test, y_test)\n",
    "metrics.append({\"model\": \"Support Vector Classifier\", \"acc\": acc})\n",
    "print(f\"Accuracy: {acc}\")"
   ]
  },
  {
   "attachments": {},
   "cell_type": "markdown",
   "metadata": {},
   "source": [
    "### Linear SVM"
   ]
  },
  {
   "cell_type": "code",
   "execution_count": 20,
   "metadata": {},
   "outputs": [
    {
     "name": "stdout",
     "output_type": "stream",
     "text": [
      "Accuracy: 0.5753623188405798\n"
     ]
    },
    {
     "name": "stderr",
     "output_type": "stream",
     "text": [
      "d:\\Workspace\\github\\AUT-CE-DM\\HWs\\HW2\\venv\\Lib\\site-packages\\sklearn\\svm\\_base.py:1244: ConvergenceWarning: Liblinear failed to converge, increase the number of iterations.\n",
      "  warnings.warn(\n"
     ]
    }
   ],
   "source": [
    "svc = LinearSVC(random_state=RANDOM_STATE)\n",
    "svc.fit(X_train, y_train)\n",
    "\n",
    "# Evaluate\n",
    "acc = svc.score(X_test, y_test)\n",
    "metrics.append({\"model\": \"Support Vector Classifier\", \"acc\": acc})\n",
    "print(f\"Accuracy: {acc}\")"
   ]
  },
  {
   "cell_type": "code",
   "execution_count": 21,
   "metadata": {},
   "outputs": [
    {
     "data": {
      "text/html": [
       "<div>\n",
       "<style scoped>\n",
       "    .dataframe tbody tr th:only-of-type {\n",
       "        vertical-align: middle;\n",
       "    }\n",
       "\n",
       "    .dataframe tbody tr th {\n",
       "        vertical-align: top;\n",
       "    }\n",
       "\n",
       "    .dataframe thead th {\n",
       "        text-align: right;\n",
       "    }\n",
       "</style>\n",
       "<table border=\"1\" class=\"dataframe\">\n",
       "  <thead>\n",
       "    <tr style=\"text-align: right;\">\n",
       "      <th></th>\n",
       "      <th>model</th>\n",
       "      <th>acc</th>\n",
       "    </tr>\n",
       "  </thead>\n",
       "  <tbody>\n",
       "    <tr>\n",
       "      <th>0</th>\n",
       "      <td>Decision Tree Classifier</td>\n",
       "      <td>0.756522</td>\n",
       "    </tr>\n",
       "    <tr>\n",
       "      <th>1</th>\n",
       "      <td>Random Forest Classifier</td>\n",
       "      <td>0.744928</td>\n",
       "    </tr>\n",
       "    <tr>\n",
       "      <th>2</th>\n",
       "      <td>KNN-3 Classifier</td>\n",
       "      <td>0.701449</td>\n",
       "    </tr>\n",
       "    <tr>\n",
       "      <th>3</th>\n",
       "      <td>Support Vector Classifier</td>\n",
       "      <td>0.640580</td>\n",
       "    </tr>\n",
       "    <tr>\n",
       "      <th>4</th>\n",
       "      <td>Support Vector Classifier</td>\n",
       "      <td>0.575362</td>\n",
       "    </tr>\n",
       "  </tbody>\n",
       "</table>\n",
       "</div>"
      ],
      "text/plain": [
       "                       model       acc\n",
       "0   Decision Tree Classifier  0.756522\n",
       "1   Random Forest Classifier  0.744928\n",
       "2           KNN-3 Classifier  0.701449\n",
       "3  Support Vector Classifier  0.640580\n",
       "4  Support Vector Classifier  0.575362"
      ]
     },
     "execution_count": 21,
     "metadata": {},
     "output_type": "execute_result"
    }
   ],
   "source": [
    "pd.DataFrame(metrics)"
   ]
  },
  {
   "attachments": {},
   "cell_type": "markdown",
   "metadata": {},
   "source": [
    "As can be seen here, the Decision Tree model is the best fit for the data with higher Accuracy. Also, the Random Forest model is the best fit for the data with the right hyperparameters."
   ]
  },
  {
   "attachments": {},
   "cell_type": "markdown",
   "metadata": {},
   "source": [
    "## Deep Learning"
   ]
  },
  {
   "cell_type": "code",
   "execution_count": 22,
   "metadata": {},
   "outputs": [
    {
     "name": "stdout",
     "output_type": "stream",
     "text": [
      "X_train: (2760, 6), X_test: (690, 6), y_train: (2760,), y_test: (690,)\n"
     ]
    }
   ],
   "source": [
    "X_train, X_test, y_train, y_test = train_test_split(\n",
    "    df[[\"Area\", \"Room\", \"Parking\", \"Warehouse\", \"Elevator\", \"Address\"]],\n",
    "    df[\"priceLevel\"],\n",
    "    test_size=0.2,\n",
    "    random_state=RANDOM_STATE\n",
    ")\n",
    "print(f\"X_train: {X_train.shape}, X_test: {X_test.shape}, y_train: {y_train.shape}, y_test: {y_test.shape}\")"
   ]
  },
  {
   "cell_type": "code",
   "execution_count": 23,
   "metadata": {},
   "outputs": [],
   "source": [
    "y_train = pd.get_dummies(y_train)\n",
    "y_test = pd.get_dummies(y_test)"
   ]
  },
  {
   "cell_type": "code",
   "execution_count": 32,
   "metadata": {},
   "outputs": [
    {
     "name": "stdout",
     "output_type": "stream",
     "text": [
      "Model: \"sequential_2\"\n",
      "_________________________________________________________________\n",
      " Layer (type)                Output Shape              Param #   \n",
      "=================================================================\n",
      " dense_8 (Dense)             (None, 32)                224       \n",
      "                                                                 \n",
      " dense_9 (Dense)             (None, 8)                 264       \n",
      "                                                                 \n",
      " dense_10 (Dense)            (None, 4)                 36        \n",
      "                                                                 \n",
      " dense_11 (Dense)            (None, 4)                 20        \n",
      "                                                                 \n",
      "=================================================================\n",
      "Total params: 544\n",
      "Trainable params: 544\n",
      "Non-trainable params: 0\n",
      "_________________________________________________________________\n",
      "Epoch 1/20\n",
      "276/276 [==============================] - 1s 2ms/step - loss: 1.1823 - accuracy: 0.4783 - val_loss: 1.0761 - val_accuracy: 0.5290 - lr: 0.0010\n",
      "Epoch 2/20\n",
      "276/276 [==============================] - 0s 1ms/step - loss: 1.0227 - accuracy: 0.5865 - val_loss: 1.0297 - val_accuracy: 0.5580 - lr: 0.0010\n",
      "Epoch 3/20\n",
      "276/276 [==============================] - 0s 1ms/step - loss: 0.9889 - accuracy: 0.5969 - val_loss: 0.9987 - val_accuracy: 0.5996 - lr: 0.0010\n",
      "Epoch 4/20\n",
      "276/276 [==============================] - 0s 1ms/step - loss: 0.9702 - accuracy: 0.6014 - val_loss: 0.9801 - val_accuracy: 0.5815 - lr: 0.0010\n",
      "Epoch 5/20\n",
      "276/276 [==============================] - 0s 1ms/step - loss: 0.9551 - accuracy: 0.5996 - val_loss: 0.9663 - val_accuracy: 0.5851 - lr: 0.0010\n",
      "Epoch 6/20\n",
      "276/276 [==============================] - 0s 1ms/step - loss: 0.9423 - accuracy: 0.6055 - val_loss: 0.9660 - val_accuracy: 0.5906 - lr: 0.0010\n",
      "Epoch 7/20\n",
      "276/276 [==============================] - 0s 1ms/step - loss: 0.9345 - accuracy: 0.6173 - val_loss: 0.9445 - val_accuracy: 0.6141 - lr: 0.0010\n",
      "Epoch 8/20\n",
      "276/276 [==============================] - 0s 1ms/step - loss: 0.9265 - accuracy: 0.6119 - val_loss: 0.9372 - val_accuracy: 0.6159 - lr: 0.0010\n",
      "Epoch 9/20\n",
      "276/276 [==============================] - 0s 1ms/step - loss: 0.9206 - accuracy: 0.6159 - val_loss: 0.9262 - val_accuracy: 0.6069 - lr: 0.0010\n",
      "Epoch 10/20\n",
      "276/276 [==============================] - 0s 1ms/step - loss: 0.9134 - accuracy: 0.6182 - val_loss: 0.9241 - val_accuracy: 0.6159 - lr: 0.0010\n",
      "Epoch 11/20\n",
      "276/276 [==============================] - 0s 1ms/step - loss: 0.9088 - accuracy: 0.6209 - val_loss: 0.9231 - val_accuracy: 0.6159 - lr: 0.0010\n",
      "Epoch 12/20\n",
      "276/276 [==============================] - 0s 1ms/step - loss: 0.9028 - accuracy: 0.6223 - val_loss: 0.9214 - val_accuracy: 0.6159 - lr: 0.0010\n",
      "Epoch 13/20\n",
      "276/276 [==============================] - 0s 1ms/step - loss: 0.9029 - accuracy: 0.6245 - val_loss: 0.9191 - val_accuracy: 0.6123 - lr: 0.0010\n",
      "Epoch 14/20\n",
      "276/276 [==============================] - 0s 1ms/step - loss: 0.8980 - accuracy: 0.6200 - val_loss: 0.9150 - val_accuracy: 0.6159 - lr: 0.0010\n",
      "Epoch 15/20\n",
      "276/276 [==============================] - 0s 1ms/step - loss: 0.8922 - accuracy: 0.6259 - val_loss: 0.9148 - val_accuracy: 0.6105 - lr: 0.0010\n",
      "Epoch 16/20\n",
      "276/276 [==============================] - 0s 1ms/step - loss: 0.8905 - accuracy: 0.6300 - val_loss: 0.9095 - val_accuracy: 0.6069 - lr: 0.0010\n",
      "Epoch 17/20\n",
      "276/276 [==============================] - 0s 1ms/step - loss: 0.8849 - accuracy: 0.6223 - val_loss: 0.9133 - val_accuracy: 0.6268 - lr: 0.0010\n",
      "Epoch 18/20\n",
      "276/276 [==============================] - 0s 1ms/step - loss: 0.8818 - accuracy: 0.6350 - val_loss: 0.9081 - val_accuracy: 0.6178 - lr: 0.0010\n",
      "Epoch 19/20\n",
      "276/276 [==============================] - 0s 1ms/step - loss: 0.8786 - accuracy: 0.6264 - val_loss: 0.9097 - val_accuracy: 0.6069 - lr: 0.0010\n",
      "Epoch 20/20\n",
      "276/276 [==============================] - 0s 1ms/step - loss: 0.8769 - accuracy: 0.6336 - val_loss: 0.9104 - val_accuracy: 0.6268 - lr: 0.0010\n",
      "22/22 [==============================] - 0s 840us/step\n"
     ]
    }
   ],
   "source": [
    "# Network\n",
    "model = Sequential()\n",
    "model.add(Dense(32, activation='leaky_relu', input_shape=(X_train.shape[1],)))\n",
    "model.add(Dense(8, activation='leaky_relu'))\n",
    "model.add(Dense(4, activation='leaky_relu'))\n",
    "model.add(Dense(y_train.shape[1], activation='softmax'))\n",
    "\n",
    "# Build\n",
    "model.compile(optimizer='adam', loss='categorical_crossentropy', metrics = ['accuracy'])\n",
    "model.summary()\n",
    "\n",
    "# Callbacks\n",
    "callbacks = [\n",
    "    ReduceLROnPlateau(),\n",
    "    EarlyStopping(patience=3)\n",
    "]\n",
    "\n",
    "# Trains\n",
    "history = model.fit(\n",
    "    X_train, y_train,\n",
    "    epochs=20,\n",
    "    batch_size=8,\n",
    "    validation_split=0.2,\n",
    "    callbacks=callbacks\n",
    ")\n",
    "\n",
    "# Predict\n",
    "y_pred = model.predict(X_test)"
   ]
  },
  {
   "cell_type": "code",
   "execution_count": 29,
   "metadata": {},
   "outputs": [
    {
     "data": {
      "image/png": "[encoded data removed]",
      "text/plain": [
       "<Figure size 640x480 with 1 Axes>"
      ]
     },
     "metadata": {},
     "output_type": "display_data"
    }
   ],
   "source": [
    "plt.plot(history.history['accuracy'])\n",
    "plt.plot(history.history['val_accuracy'])\n",
    "plt.title('model accuracy')\n",
    "plt.ylabel('accuracy')\n",
    "plt.xlabel('epoch')\n",
    "plt.legend(['train', 'val'], loc='upper left')\n",
    "plt.show()"
   ]
  },
  {
   "cell_type": "code",
   "execution_count": 48,
   "metadata": {},
   "outputs": [
    {
     "data": {
      "text/plain": [
       "array([[112,   6,  35,  18],\n",
       "       [ 48,  67,   5,  44],\n",
       "       [ 36,   2, 147,   0],\n",
       "       [ 33,  13,  12, 112]], dtype=int64)"
      ]
     },
     "execution_count": 48,
     "metadata": {},
     "output_type": "execute_result"
    }
   ],
   "source": [
    "confusion_matrix(y_test.to_numpy().argmax(axis=1), y_pred.argmax(axis=1))"
   ]
  }
 ],
 "metadata": {
  "kernelspec": {
   "display_name": "venv",
   "language": "python",
   "name": "python3"
  },
  "language_info": {
   "codemirror_mode": {
    "name": "ipython",
    "version": 3
   },
   "file_extension": ".py",
   "mimetype": "text/x-python",
   "name": "python",
   "nbconvert_exporter": "python",
   "pygments_lexer": "ipython3",
   "version": "3.11.2"
  },
  "orig_nbformat": 4
 },
 "nbformat": 4,
 "nbformat_minor": 2
}
